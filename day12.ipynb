{
 "cells": [
  {
   "cell_type": "code",
   "execution_count": 1,
   "metadata": {},
   "outputs": [],
   "source": [
    "# Summary\n",
    "################\n",
    "# Image Acquire\n",
    "# Color Plane Extraction & Gray Conversion\n",
    "# Image Subtraction to fetch specific color\n",
    "# Thresholding to convert to BW - CRITICAL\n",
    "# Area/Region of Interest (ROI) - CRITICAL\n",
    "    # Dilation/Erosion/Opening/Closing (combinations)\n",
    "    # Noise Rmoval/Holes Filling\n",
    "# Find the Region Properties\n",
    "    # Label the Image\n",
    "    # Regionprops (bounding Box) (y1,x1, y2,x2)\n",
    "# Draw the rectangle over Original Image based on bbox"
   ]
  },
  {
   "cell_type": "code",
   "execution_count": 17,
   "metadata": {},
   "outputs": [
    {
     "ename": "KeyboardInterrupt",
     "evalue": "",
     "output_type": "error",
     "traceback": [
      "\u001b[0;31m---------------------------------------------------------------------------\u001b[0m",
      "\u001b[0;31mKeyboardInterrupt\u001b[0m                         Traceback (most recent call last)",
      "Cell \u001b[0;32mIn[17], line 2\u001b[0m\n\u001b[1;32m      1\u001b[0m \u001b[39mimport\u001b[39;00m \u001b[39mcv2\u001b[39;00m\n\u001b[0;32m----> 2\u001b[0m vid \u001b[39m=\u001b[39m cv2\u001b[39m.\u001b[39;49mVideoCapture(\u001b[39m0\u001b[39;49m)\n\u001b[1;32m      3\u001b[0m \u001b[39mwhile\u001b[39;00m \u001b[39mTrue\u001b[39;00m:\n\u001b[1;32m      4\u001b[0m     ack, img \u001b[39m=\u001b[39m vid\u001b[39m.\u001b[39mread()\n",
      "\u001b[0;31mKeyboardInterrupt\u001b[0m: "
     ]
    }
   ],
   "source": [
    "import cv2\n",
    "vid = cv2.VideoCapture(0)\n",
    "while True:\n",
    "    ack, img = vid.read()\n",
    "    if ack:\n",
    "        # do the entire processing\n",
    "        # ......\n",
    "        cv2.imshow('Preview', img)  # depends on requirement\n",
    "        key = cv2.waitKey(1)\n",
    "        if key == ord('x'):\n",
    "            break\n",
    "cv2.destroyAllWindows(); cv2.waitKey(1)\n",
    "vid.release()"
   ]
  },
  {
   "cell_type": "code",
   "execution_count": 16,
   "metadata": {},
   "outputs": [],
   "source": [
    "# Live Image Capturing\n",
    "import cv2, skimage as ski\n",
    "vid = cv2.VideoCapture(0)\n",
    "while True:\n",
    "    ack, img = vid.read()\n",
    "    if ack:\n",
    "        th, red_bw = cv2.threshold(\n",
    "            cv2.subtract(\n",
    "                img[:,:,-3], cv2.cvtColor(img, cv2.COLOR_BGR2GRAY)\n",
    "            ), 40, 255, cv2.THRESH_BINARY\n",
    "        )\n",
    "        strel = cv2.getStructuringElement(cv2.MORPH_RECT, (20,20))\n",
    "        red_bw = cv2.morphologyEx(\n",
    "            red_bw, cv2.MORPH_CLOSE, strel, iterations=1\n",
    "        )\n",
    "        red_bw = ski.morphology.remove_small_objects(\n",
    "            red_bw.astype(bool), 3000\n",
    "        ).astype('uint8') * 255\n",
    "        red_bw = ski.morphology.remove_small_holes(\n",
    "            red_bw.astype(bool), 3000\n",
    "        ).astype('uint8') * 255\n",
    "\n",
    "        rps = ski.measure.regionprops(\n",
    "            ski.measure.label(red_bw.astype(bool))\n",
    "        )\n",
    "        count = len(rps)\n",
    "        img_copy = img.copy()\n",
    "        cv2.putText(img_copy, str(count),(150,150),\n",
    "                    cv2.FONT_HERSHEY_PLAIN, 10, (0,0,255),10\n",
    "        )\n",
    "        for rp in rps:\n",
    "            y1,x1,y2,x2 = rp.bbox\n",
    "            cv2.rectangle(img_copy, (x1,y1),(x2,y2),(0,0,255),thickness=5)\n",
    "\n",
    "        cv2.imshow('Preview', img_copy)  # depends on requirement\n",
    "        key = cv2.waitKey(1)\n",
    "        if key == ord('x'):\n",
    "            break\n",
    "cv2.destroyAllWindows(); cv2.waitKey(1)\n",
    "vid.release()"
   ]
  },
  {
   "cell_type": "code",
   "execution_count": 19,
   "metadata": {},
   "outputs": [],
   "source": [
    "# Face Detection - Viola-jones algo (Haarcascade features)\n",
    "import cv2\n",
    "fd = cv2.CascadeClassifier(\n",
    "    cv2.data.haarcascades + 'haarcascade_frontalface_default.xml'\n",
    ")\n",
    "vid = cv2.VideoCapture(0)\n",
    "while True:\n",
    "    ack, img = vid.read()\n",
    "    if ack:\n",
    "        faces = fd.detectMultiScale(img,1.2,10)\n",
    "        for x,y,w,h in faces:\n",
    "            cv2.rectangle(img,(x,y),(x+w,y+h),(255,255,255),10)\n",
    "\n",
    "        cv2.imshow('Preview', img)  # depends on requirement\n",
    "        key = cv2.waitKey(1)\n",
    "        if key == ord('x'):\n",
    "            break\n",
    "cv2.destroyAllWindows(); cv2.waitKey(1)\n",
    "vid.release()"
   ]
  },
  {
   "cell_type": "code",
   "execution_count": null,
   "metadata": {},
   "outputs": [],
   "source": [
    "# Face Detection - Face Images Save to computer\n",
    "import cv2\n",
    "fd = cv2.CascadeClassifier(\n",
    "    cv2.data.haarcascades + 'haarcascade_frontalface_default.xml'\n",
    ")\n",
    "vid = cv2.VideoCapture(0)\n",
    "counter = 0\n",
    "while True:\n",
    "    ack, img = vid.read()\n",
    "    if ack:\n",
    "        faces = fd.detectMultiScale(img,1.2,10)\n",
    "        if len(faces) == 1:\n",
    "            counter += 1\n",
    "            for x,y,w,h in faces:\n",
    "                cv2.rectangle(img,(x,y),(x+w,y+h),(255,255,255),10)\n",
    "            face_img = img[y:y+h, x:x+w, :].copy()\n",
    "            cv2.imwrite(\n",
    "                r'faces/peeyush/face_{0}.png'.format(counter), \n",
    "                face_img\n",
    "            )\n",
    "\n",
    "        cv2.imshow('Preview', img)  # depends on requirement\n",
    "        key = cv2.waitKey(1)\n",
    "        if key == ord('x'):\n",
    "            break\n",
    "cv2.destroyAllWindows(); cv2.waitKey(1)\n",
    "vid.release()"
   ]
  }
 ],
 "metadata": {
  "kernelspec": {
   "display_name": "Python 3",
   "language": "python",
   "name": "python3"
  },
  "language_info": {
   "codemirror_mode": {
    "name": "ipython",
    "version": 3
   },
   "file_extension": ".py",
   "mimetype": "text/x-python",
   "name": "python",
   "nbconvert_exporter": "python",
   "pygments_lexer": "ipython3",
   "version": "3.9.6"
  },
  "orig_nbformat": 4
 },
 "nbformat": 4,
 "nbformat_minor": 2
}
